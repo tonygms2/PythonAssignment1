{
 "cells": [
  {
   "cell_type": "markdown",
   "metadata": {},
   "source": [
    "***1. Write a function called rectangle that takes two integers m and n as arguments and prints out an m × n box consisting of asterisks.***"
   ]
  },
  {
   "cell_type": "code",
   "execution_count": null,
   "metadata": {},
   "outputs": [],
   "source": [
    "#Question 1 Solution\n",
    "def main():\n",
    "    rectangles(8,6)\n",
    "\n",
    "def rectangles(m,n):\n",
    "    for i in range(0,m):\n",
    "        for j in range(0,n):\n",
    "            print(\"* \", end = \"\")\n",
    "        print(\" \")\n",
    "        \n",
    "main()"
   ]
  },
  {
   "cell_type": "markdown",
   "metadata": {},
   "source": [
    "***2. Write a function called add_excitement that takes a list of strings and adds an exclamation point ( ! ) to the end of each string in the list. The program should modify the original list and not return anything.***"
   ]
  },
  {
   "cell_type": "code",
   "execution_count": 46,
   "metadata": {
    "scrolled": false
   },
   "outputs": [
    {
     "name": "stdout",
     "output_type": "stream",
     "text": [
      "['Hello!', 'I!', 'Am!', 'Really!', 'Excited!', 'Really!']\n"
     ]
    }
   ],
   "source": [
    "#Question 2 Solution\n",
    "def main():\n",
    "    add_excitement(['Hello','I','Am','Really','Excited','Really'])\n",
    "def add_excitement(list_of_string):\n",
    "    list_of_string = [ word+'!' for word in list_of_string]\n",
    "    print(list_of_string)\n",
    "main()"
   ]
  },
  {
   "cell_type": "markdown",
   "metadata": {},
   "source": [
    "***3. Write the same function except that it should not modify the original list and should instead return a new list.***"
   ]
  },
  {
   "cell_type": "code",
   "execution_count": 47,
   "metadata": {},
   "outputs": [
    {
     "name": "stdout",
     "output_type": "stream",
     "text": [
      "['Hello!', 'I!', 'Am!', 'Really!', 'Excited!', 'Really!']\n"
     ]
    }
   ],
   "source": [
    "#Question 3 Solution\n",
    "def main():\n",
    "    print(add_excitement(['Hello','I','Am','Really','Excited','Really']))\n",
    "   \n",
    "def add_excitement(list_of_string):\n",
    "    newList = []\n",
    "    newList = [ word+'!' for word in list_of_string]\n",
    "    return newList\n",
    "    \n",
    "main()"
   ]
  },
  {
   "cell_type": "markdown",
   "metadata": {},
   "source": [
    "***4. The digital root of a number n is obtained as follows: Add up the digits n to get a new number. Add up the digits of that to get another new number. Keep doing this until you get a number that has only one digit. That number is the digital root. For example, if n = 45893 , we add up the digits to get 4 + 5 + 8 + 9 + 3 = 29 . We then add up the digits of 29 to get 2 + 9 = 11 . We then add up the digits of 11 to get 1 + 1 = 2 . Since 2 has only one digit, 2 is our digital root. Write a function that returns the digital root of an integer n . [Note: there is a shortcut, where the digital root is equal to n mod 9, but do not use that here.]***"
   ]
  },
  {
   "cell_type": "code",
   "execution_count": 37,
   "metadata": {},
   "outputs": [
    {
     "name": "stdout",
     "output_type": "stream",
     "text": [
      "Enter your number: 45893\n",
      "The digital root of  45893  is:  2\n"
     ]
    }
   ],
   "source": [
    "#Question 4 Solution\n",
    "numbers = input(\"Enter your number: \")\n",
    "def main():\n",
    "    print(\"The digital root of \", numbers, \" is: \", digitalRoot(numbers))\n",
    "def digitalRoot(numbers):\n",
    "    if len(numbers) == 1:\n",
    "        return numbers\n",
    "    else:\n",
    "        sum = 0\n",
    "        for digits in numbers:\n",
    "            sum = sum + int(digits)\n",
    "        numbers = str(sum)\n",
    "        return digitalRoot(numbers)\n",
    "        \n",
    "main()"
   ]
  },
  {
   "cell_type": "markdown",
   "metadata": {},
   "source": [
    "***5. Write a function that takes an integer n and returns a random integer with exactly n digits. For instance, if n is 3, then 125 and 593 would be valid return values, but 093 would not because that is really 93, which is a two-digit number.***"
   ]
  },
  {
   "cell_type": "code",
   "execution_count": 12,
   "metadata": {},
   "outputs": [
    {
     "name": "stdout",
     "output_type": "stream",
     "text": [
      "5\n"
     ]
    }
   ],
   "source": [
    "#Question 5 Solution\n",
    "from random import randint\n",
    "\n",
    "def main():\n",
    "    print(randomNumberGen(1))\n",
    "\n",
    "\n",
    "def randomNumberGen(n):\n",
    "    first_range = 10**(n-1)\n",
    "    end_range = (10**n)-1\n",
    "    return randint(first_range,end_range)\n",
    "\n",
    "main()"
   ]
  },
  {
   "cell_type": "markdown",
   "metadata": {},
   "source": [
    "***6. Write a function called matches that takes two strings as arguments and returns how many matches there are between the strings. A match is where the two strings have the same character at the same index. For instance, ' python ' and ' path ' match in the first, third, and fourth characters, so the function should return 3.***"
   ]
  },
  {
   "cell_type": "code",
   "execution_count": 34,
   "metadata": {},
   "outputs": [
    {
     "name": "stdout",
     "output_type": "stream",
     "text": [
      "3\n"
     ]
    }
   ],
   "source": [
    "#Question 6 Solution\n",
    "def main():\n",
    "    print(matches(\"python\",\"path\"))\n",
    "    \n",
    "def matches(firstString, secondString):\n",
    "    match = 0\n",
    "    for letters_1 in firstString:\n",
    "        for letters_2 in secondString:\n",
    "            \n",
    "            if letters_1 == letters_2:\n",
    "                match = match + 1\n",
    "    return match\n",
    "\n",
    "\n",
    "\n",
    "main()"
   ]
  },
  {
   "cell_type": "markdown",
   "metadata": {},
   "source": [
    "***"
   ]
  }
 ],
 "metadata": {
  "kernelspec": {
   "display_name": "Python 3",
   "language": "python",
   "name": "python3"
  },
  "language_info": {
   "codemirror_mode": {
    "name": "ipython",
    "version": 3
   },
   "file_extension": ".py",
   "mimetype": "text/x-python",
   "name": "python",
   "nbconvert_exporter": "python",
   "pygments_lexer": "ipython3",
   "version": "3.6.5"
  }
 },
 "nbformat": 4,
 "nbformat_minor": 2
}
