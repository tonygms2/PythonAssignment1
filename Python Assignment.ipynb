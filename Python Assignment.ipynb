{
 "cells": [
  {
   "cell_type": "markdown",
   "metadata": {},
   "source": [
    "***1. Write a function called rectangle that takes two integers m and n as arguments and prints out an m × n box consisting of asterisks.***"
   ]
  },
  {
   "cell_type": "code",
   "execution_count": 1,
   "metadata": {},
   "outputs": [
    {
     "name": "stdout",
     "output_type": "stream",
     "text": [
      "* * * * * *  \n",
      "* * * * * *  \n",
      "* * * * * *  \n",
      "* * * * * *  \n",
      "* * * * * *  \n",
      "* * * * * *  \n",
      "* * * * * *  \n",
      "* * * * * *  \n"
     ]
    }
   ],
   "source": [
    "#Question 1 Solution\n",
    "\n",
    "#for the inner loop each columns are printed and after the end of each inner loop an extra space is added\n",
    "#and then the outer loop is incremented again to m+1 and then the inner loop is again executed same as before\n",
    "def main():\n",
    "    rectangles(8,6)\n",
    "\n",
    "def rectangles(m,n):\n",
    "    for i in range(0,m):\n",
    "        for j in range(0,n):\n",
    "            print(\"* \", end = \"\")\n",
    "        print(\" \")\n",
    "        \n",
    "main()"
   ]
  },
  {
   "cell_type": "markdown",
   "metadata": {},
   "source": [
    "***2. Write a function called add_excitement that takes a list of strings and adds an exclamation point ( ! ) to the end of each string in the list. The program should modify the original list and not return anything.***"
   ]
  },
  {
   "cell_type": "code",
   "execution_count": 2,
   "metadata": {
    "scrolled": false
   },
   "outputs": [
    {
     "name": "stdout",
     "output_type": "stream",
     "text": [
      "['Hello!', 'I!', 'Am!', 'Really!', 'Excited!', 'Really!']\n"
     ]
    }
   ],
   "source": [
    "#Question 2 Solution\n",
    "\n",
    "#The add_excitement function takes a list of string as an argument, and for each word in the list list_of_string an '!' sign is added\n",
    "#and then prints the value of the modified list of string \n",
    "def main():\n",
    "    add_excitement(['Hello','I','Am','Really','Excited','Really'])\n",
    "def add_excitement(list_of_string):\n",
    "    list_of_string = [ word+'!' for word in list_of_string]\n",
    "    print(list_of_string)\n",
    "main()"
   ]
  },
  {
   "cell_type": "markdown",
   "metadata": {},
   "source": [
    "***3. Write the same function except that it should not modify the original list and should instead return a new list.***"
   ]
  },
  {
   "cell_type": "code",
   "execution_count": 3,
   "metadata": {},
   "outputs": [
    {
     "name": "stdout",
     "output_type": "stream",
     "text": [
      "['Hello!', 'I!', 'Am!', 'Really!', 'Excited!', 'Really!']\n"
     ]
    }
   ],
   "source": [
    "#Question 3 Solution\n",
    "\n",
    "#The add_excitement function takes a list of string as an argument, I have created a new empty list where for each word in the list_of_string list an '!' is added\n",
    "#and then just return the newList list\n",
    "def main():\n",
    "    print(add_excitement(['Hello','I','Am','Really','Excited','Really']))\n",
    "   \n",
    "def add_excitement(list_of_string):\n",
    "    newList = []\n",
    "    newList = [ word+'!' for word in list_of_string]\n",
    "    return newList\n",
    "    \n",
    "main()"
   ]
  },
  {
   "cell_type": "markdown",
   "metadata": {},
   "source": [
    "***4. The digital root of a number n is obtained as follows: Add up the digits n to get a new number. Add up the digits of that to get another new number. Keep doing this until you get a number that has only one digit. That number is the digital root. For example, if n = 45893 , we add up the digits to get 4 + 5 + 8 + 9 + 3 = 29 . We then add up the digits of 29 to get 2 + 9 = 11 . We then add up the digits of 11 to get 1 + 1 = 2 . Since 2 has only one digit, 2 is our digital root. Write a function that returns the digital root of an integer n . [Note: there is a shortcut, where the digital root is equal to n mod 9, but do not use that here.]***"
   ]
  },
  {
   "cell_type": "code",
   "execution_count": 37,
   "metadata": {},
   "outputs": [
    {
     "name": "stdout",
     "output_type": "stream",
     "text": [
      "Enter your number: 45893\n",
      "The digital root of  45893  is:  2\n"
     ]
    }
   ],
   "source": [
    "#Question 4 Solution\n",
    "\n",
    "#Here numbers is the arguemnt of the function digitalRoot\n",
    "#first we have to check if the length of the input is equal to 1\n",
    "#if more than 1 then we add them to an empty variable sum where we initialised the variable sum = 0\n",
    "#and at the end we just return the digitalRoot(numbers) in a recursive way until we are done or length = 1\n",
    "\n",
    "numbers = input(\"Enter your number: \")\n",
    "def main():\n",
    "    print(\"The digital root of \", numbers, \" is: \", digitalRoot(numbers))\n",
    "def digitalRoot(numbers):\n",
    "    if len(numbers) == 1:\n",
    "        return numbers\n",
    "    else:\n",
    "        sum = 0\n",
    "        for digits in numbers:\n",
    "            sum = sum + int(digits)\n",
    "        numbers = str(sum)\n",
    "        return digitalRoot(numbers)\n",
    "        \n",
    "main()"
   ]
  },
  {
   "cell_type": "markdown",
   "metadata": {},
   "source": [
    "***5. Write a function that takes an integer n and returns a random integer with exactly n digits. For instance, if n is 3, then 125 and 593 would be valid return values, but 093 would not because that is really 93, which is a two-digit number.***"
   ]
  },
  {
   "cell_type": "code",
   "execution_count": 12,
   "metadata": {},
   "outputs": [
    {
     "name": "stdout",
     "output_type": "stream",
     "text": [
      "5\n"
     ]
    }
   ],
   "source": [
    "#Question 5 Solution\n",
    "\n",
    "#in here the first_range gives the smallest range of numbers, and end_range gives the largest range of number\n",
    "#and then we return a random number generated by the function randint() where the two arguments are the first_range and second_range\n",
    "\n",
    "from random import randint\n",
    "\n",
    "def main():\n",
    "    print(randomNumberGen(1))\n",
    "\n",
    "\n",
    "def randomNumberGen(n):\n",
    "    first_range = 10**(n-1)\n",
    "    end_range = (10**n)-1\n",
    "    return randint(first_range,end_range)\n",
    "\n",
    "main()"
   ]
  },
  {
   "cell_type": "markdown",
   "metadata": {},
   "source": [
    "***6. Write a function called matches that takes two strings as arguments and returns how many matches there are between the strings. A match is where the two strings have the same character at the same index. For instance, ' python ' and ' path ' match in the first, third, and fourth characters, so the function should return 3.***"
   ]
  },
  {
   "cell_type": "code",
   "execution_count": 3,
   "metadata": {},
   "outputs": [
    {
     "name": "stdout",
     "output_type": "stream",
     "text": [
      "2\n"
     ]
    }
   ],
   "source": [
    "#Question 6 Solution\n",
    "\n",
    "#the function matches takes in two argument as input, and we have a counter named match which we initialized the match = 0\n",
    "#then we used two loops for each inner loop letters_2 in the second string means we are compareing each character of the second string with each letter of first string\n",
    "#if the the charachter of the first input  is equal to second input\n",
    "#then we increment the counter match by 1\n",
    "#and at the end of the loop we return the counter match\n",
    "\n",
    "def main():\n",
    "    print(matches(\"tony\",\"tonic\"))\n",
    "    \n",
    "def matches(firstString, secondString):\n",
    "    match = 0\n",
    "    for letters_1 in firstString:\n",
    "        for letters_2 in secondString:\n",
    "            \n",
    "            if letters_1 == letters_2:\n",
    "                match = match + 1\n",
    "    return match\n",
    "\n",
    "\n",
    "\n",
    "main()"
   ]
  },
  {
   "cell_type": "markdown",
   "metadata": {},
   "source": [
    "***7. Write a function called primes that is given a number n and returns a list of the first n primes. Let the default value of n be 100.***"
   ]
  },
  {
   "cell_type": "code",
   "execution_count": 11,
   "metadata": {},
   "outputs": [
    {
     "name": "stdout",
     "output_type": "stream",
     "text": [
      "[2, 3, 5, 7, 11, 13, 17, 19, 23, 29, 31, 37, 41, 43, 47, 53, 59, 61, 67, 71, 73, 79, 83, 89, 97, 101, 103, 107, 109, 113, 127, 131, 137, 139, 149, 151, 157, 163, 167, 173, 179, 181, 191, 193, 197, 199, 211, 223, 227, 229, 233, 239, 241, 251, 257, 263, 269, 271, 277, 281, 283, 293, 307, 311, 313, 317, 331, 337, 347, 349, 353, 359, 367, 373, 379, 383, 389, 397, 401, 409, 419, 421, 431, 433, 439, 443, 449, 457, 461, 463, 467, 479, 487, 491, 499, 503, 509, 521, 523, 541]\n"
     ]
    }
   ],
   "source": [
    "#Question  7 Solution\n",
    "\n",
    "#Here I have used to funciton one called isPrime, where we check if the number is a prime or not if it is a prime it will return a boolean value\n",
    "#of true\n",
    "#now in the primes function we create a list named result and we initialize the first element as 2 by default\n",
    "#and set counter = 1 and run a while loop until counter is greater than the input number, and if the number isPrime function returns \n",
    "#a true value we append the tested number to the list we have created with result.append() function.\n",
    "def main():\n",
    "    n = 100\n",
    "    print(primes(n))\n",
    "    \n",
    "def isPrime(number):\n",
    "    if number == 2:\n",
    "        return True\n",
    "    elif number<2 or not number%2:\n",
    "        return False\n",
    "    #sqrt cannot be smaller than factor\n",
    "    for i in range(3, int(number**0.5+1),2):\n",
    "        if not number%i:\n",
    "            return False\n",
    "    return True\n",
    "\n",
    "def primes(number):\n",
    "    result = [2,]\n",
    "    counter = 1\n",
    "    checkNumber = 3\n",
    "    \n",
    "    while(counter<number):\n",
    "        if isPrime(checkNumber):\n",
    "            result.append(checkNumber)\n",
    "            counter = counter + 1\n",
    "        checkNumber = checkNumber + 2\n",
    "    return result\n",
    "\n",
    "main()\n"
   ]
  },
  {
   "cell_type": "markdown",
   "metadata": {},
   "source": [
    "***8. Recall that if s is a string, then s.find( ' a ' ) will find the location of the first a in s . The problem is that it does not find the location of every a. Write a function called findall that given a string and a single character, returns a list containing all of the locations of that character in the string. It should return an empty list if there are no occurrences of the character in the string.***"
   ]
  },
  {
   "cell_type": "code",
   "execution_count": 8,
   "metadata": {},
   "outputs": [
    {
     "name": "stdout",
     "output_type": "stream",
     "text": [
      "[0, 30, 33]\n"
     ]
    }
   ],
   "source": [
    "#Question 8 Solution\n",
    "\n",
    "#the findall() function will take two argument first the word and second the string\n",
    "#we create an empty list and set the counter = -1\n",
    "#and we run a positive loop while(true) and use string.find() with input word and i+1 position to check, if the function returns a \n",
    "#positive value we append the the counter to the empty list\n",
    "#and then return the solved list\n",
    "def main():\n",
    "    s = 'a quick brown fox jumped over a lazy dog'\n",
    "    print(findall('a',s))\n",
    "def findall(word,strings):\n",
    "    data = []\n",
    "    i = -1\n",
    "    while(True):\n",
    "        i = strings.find(word,i+1)\n",
    "        if(i == -1):\n",
    "            break\n",
    "        data.append(i)\n",
    "    return data\n",
    "\n",
    "main()"
   ]
  },
  {
   "cell_type": "code",
   "execution_count": null,
   "metadata": {},
   "outputs": [],
   "source": []
  }
 ],
 "metadata": {
  "kernelspec": {
   "display_name": "Python 3",
   "language": "python",
   "name": "python3"
  },
  "language_info": {
   "codemirror_mode": {
    "name": "ipython",
    "version": 3
   },
   "file_extension": ".py",
   "mimetype": "text/x-python",
   "name": "python",
   "nbconvert_exporter": "python",
   "pygments_lexer": "ipython3",
   "version": "3.6.5"
  }
 },
 "nbformat": 4,
 "nbformat_minor": 2
}
