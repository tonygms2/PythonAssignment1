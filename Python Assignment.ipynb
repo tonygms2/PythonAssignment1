{
 "cells": [
  {
   "cell_type": "markdown",
   "metadata": {},
   "source": [
    "***1. Write a function called rectangle that takes two integers m and n as arguments and prints out an m × n box consisting of asterisks.***"
   ]
  },
  {
   "cell_type": "code",
   "execution_count": null,
   "metadata": {},
   "outputs": [],
   "source": [
    "#Question 1 Solution\n",
    "def main():\n",
    "    rectangles(8,6)\n",
    "\n",
    "def rectangles(m,n):\n",
    "    for i in range(0,m):\n",
    "        for j in range(0,n):\n",
    "            print(\"* \", end = \"\")\n",
    "        print(\" \")\n",
    "        \n",
    "main()"
   ]
  },
  {
   "cell_type": "markdown",
   "metadata": {},
   "source": [
    "***2. Write a function called add_excitement that takes a list of strings and adds an exclamation point ( ! ) to the end of each string in the list. The program should modify the original list and not return anything.***"
   ]
  },
  {
   "cell_type": "code",
   "execution_count": 9,
   "metadata": {
    "scrolled": false
   },
   "outputs": [
    {
     "name": "stdout",
     "output_type": "stream",
     "text": [
      "['Hello!', 'I!', 'Am!', 'Really!', 'Excited!']\n"
     ]
    }
   ],
   "source": [
    "#Question 2\n",
    "def main():\n",
    "    add_excitement(['Hello','I','Am','Really','Excited'])\n",
    "def add_excitement(list_of_string):\n",
    "    list_of_string = [ word+'!' for word in list_of_string]\n",
    "    print(list_of_string)\n",
    "main()"
   ]
  },
  {
   "cell_type": "markdown",
   "metadata": {},
   "source": [
    "***Write the same function except that it should not modify the original list and should instead return a new list."
   ]
  },
  {
   "cell_type": "code",
   "execution_count": 10,
   "metadata": {},
   "outputs": [
    {
     "name": "stdout",
     "output_type": "stream",
     "text": [
      "['Hello!', 'I!', 'Am!', 'Really!', 'Excited!']\n"
     ]
    }
   ],
   "source": [
    "#Question 3\n",
    "def main():\n",
    "    add_excitement(['Hello','I','Am','Really','Excited'])\n",
    "def add_excitement(list_of_string):\n",
    "    newList = []\n",
    "    newList = [ word+'!' for word in list_of_string]\n",
    "    print(newList)\n",
    "main()"
   ]
  },
  {
   "cell_type": "code",
   "execution_count": 37,
   "metadata": {},
   "outputs": [
    {
     "name": "stdout",
     "output_type": "stream",
     "text": [
      "Enter your number: 45893\n",
      "The digital root of  45893  is:  2\n"
     ]
    }
   ],
   "source": [
    "#Question 4\n",
    "numbers = input(\"Enter your number: \")\n",
    "def main():\n",
    "    print(\"The digital root of \", numbers, \" is: \", digitalRoot(numbers))\n",
    "def digitalRoot(numbers):\n",
    "    if len(numbers) == 1:\n",
    "        return numbers\n",
    "    else:\n",
    "        sum = 0\n",
    "        for digits in numbers:\n",
    "            sum = sum + int(digits)\n",
    "        numbers = str(sum)\n",
    "        return digitalRoot(numbers)\n",
    "        \n",
    "main()"
   ]
  },
  {
   "cell_type": "code",
   "execution_count": null,
   "metadata": {},
   "outputs": [],
   "source": []
  },
  {
   "cell_type": "code",
   "execution_count": null,
   "metadata": {},
   "outputs": [],
   "source": []
  }
 ],
 "metadata": {
  "kernelspec": {
   "display_name": "Python 3",
   "language": "python",
   "name": "python3"
  },
  "language_info": {
   "codemirror_mode": {
    "name": "ipython",
    "version": 3
   },
   "file_extension": ".py",
   "mimetype": "text/x-python",
   "name": "python",
   "nbconvert_exporter": "python",
   "pygments_lexer": "ipython3",
   "version": "3.6.5"
  }
 },
 "nbformat": 4,
 "nbformat_minor": 2
}
