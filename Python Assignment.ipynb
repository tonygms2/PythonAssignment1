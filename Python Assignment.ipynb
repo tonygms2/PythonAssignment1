{
 "cells": [
  {
   "cell_type": "code",
   "execution_count": 5,
   "metadata": {},
   "outputs": [
    {
     "name": "stdout",
     "output_type": "stream",
     "text": [
      "* * * * * *  \n",
      "* * * * * *  \n",
      "* * * * * *  \n",
      "* * * * * *  \n"
     ]
    }
   ],
   "source": [
    "\n",
    "#First question\n",
    "def rectangles(m,n):\n",
    "    for i in range(0,m):\n",
    "        for j in range(0,n):\n",
    "            print(\"* \", end = \"\")\n",
    "        print(\" \")\n",
    "        \n",
    "rectangles(4,6)"
   ]
  },
  {
   "cell_type": "code",
   "execution_count": 108,
   "metadata": {
    "scrolled": true
   },
   "outputs": [
    {
     "name": "stdout",
     "output_type": "stream",
     "text": [
      "['one!', 'two!', 'three!', 'four!']\n"
     ]
    }
   ],
   "source": [
    "#second Question\n",
    "def add_excitement(list_of_string):\n",
    "    list_of_string = [ word+'!' for word in list_of_string]\n",
    "    print(list_of_string)\n",
    "    \n",
    "add_excitement(['one','two','three','four'])"
   ]
  },
  {
   "cell_type": "code",
   "execution_count": 107,
   "metadata": {},
   "outputs": [
    {
     "name": "stdout",
     "output_type": "stream",
     "text": [
      "['one!', 'two!', 'three!', 'four!']\n"
     ]
    }
   ],
   "source": [
    "#third Question\n",
    "def add_excitement(list_of_string):\n",
    "    newList = []\n",
    "    newList = [ word+'!' for word in list_of_string]\n",
    "    print(newList)\n",
    "    \n",
    "add_excitement(['one','two','three','four'])"
   ]
  },
  {
   "cell_type": "code",
   "execution_count": 109,
   "metadata": {},
   "outputs": [],
   "source": [
    "#fourth Question"
   ]
  },
  {
   "cell_type": "code",
   "execution_count": null,
   "metadata": {},
   "outputs": [],
   "source": []
  }
 ],
 "metadata": {
  "kernelspec": {
   "display_name": "Python 3",
   "language": "python",
   "name": "python3"
  },
  "language_info": {
   "codemirror_mode": {
    "name": "ipython",
    "version": 3
   },
   "file_extension": ".py",
   "mimetype": "text/x-python",
   "name": "python",
   "nbconvert_exporter": "python",
   "pygments_lexer": "ipython3",
   "version": "3.6.5"
  }
 },
 "nbformat": 4,
 "nbformat_minor": 2
}
